{
 "cells": [
  {
   "cell_type": "code",
   "execution_count": 185,
   "metadata": {},
   "outputs": [],
   "source": [
    "import pandas as pd \n",
    "import plotly .offline as offline\n",
    "import plotly.figure_factory as ff\n",
    "from sklearn.model_selection import train_test_split\n",
    "from sklearn.preprocessing import StandardScaler\n",
    "from sklearn import tree\n",
    "from sklearn.model_selection import GridSearchCV\n",
    "from sklearn import metrics\n",
    "import numpy as np\n",
    "from imblearn.over_sampling import SMOTE\n",
    "import matplotlib.pyplot as plt"
   ]
  },
  {
   "cell_type": "code",
   "execution_count": 123,
   "metadata": {},
   "outputs": [],
   "source": [
    "dataset = pd.read_csv(\"ChurnPrediction.csv\")"
   ]
  },
  {
   "cell_type": "code",
   "execution_count": 124,
   "metadata": {},
   "outputs": [
    {
     "name": "stdout",
     "output_type": "stream",
     "text": [
      "Travel_Rarely        1043\n",
      "Travel_Frequently     277\n",
      "Non-Travel            150\n",
      "Name: BusinessTravel, dtype: int64\n"
     ]
    }
   ],
   "source": [
    "print(dataset['BusinessTravel'].value_counts())"
   ]
  },
  {
   "cell_type": "code",
   "execution_count": 125,
   "metadata": {},
   "outputs": [
    {
     "name": "stdout",
     "output_type": "stream",
     "text": [
      "Research & Development    961\n",
      "Sales                     446\n",
      "Human Resources            63\n",
      "Name: Department, dtype: int64\n"
     ]
    }
   ],
   "source": [
    "print(dataset['Department'].value_counts())"
   ]
  },
  {
   "cell_type": "code",
   "execution_count": 126,
   "metadata": {},
   "outputs": [
    {
     "name": "stdout",
     "output_type": "stream",
     "text": [
      "Life Sciences       606\n",
      "Medical             464\n",
      "Marketing           159\n",
      "Technical Degree    132\n",
      "Other                82\n",
      "Human Resources      27\n",
      "Name: EducationField, dtype: int64\n"
     ]
    }
   ],
   "source": [
    "print(dataset['EducationField'].value_counts())"
   ]
  },
  {
   "cell_type": "code",
   "execution_count": 127,
   "metadata": {},
   "outputs": [
    {
     "name": "stdout",
     "output_type": "stream",
     "text": [
      "Sales Executive              326\n",
      "Research Scientist           292\n",
      "Laboratory Technician        259\n",
      "Manufacturing Director       145\n",
      "Healthcare Representative    131\n",
      "Manager                      102\n",
      "Sales Representative          83\n",
      "Research Director             80\n",
      "Human Resources               52\n",
      "Name: JobRole, dtype: int64\n"
     ]
    }
   ],
   "source": [
    "print(dataset['JobRole'].value_counts())"
   ]
  },
  {
   "cell_type": "code",
   "execution_count": 128,
   "metadata": {},
   "outputs": [
    {
     "name": "stdout",
     "output_type": "stream",
     "text": [
      "Married     673\n",
      "Single      470\n",
      "Divorced    327\n",
      "Name: MaritalStatus, dtype: int64\n"
     ]
    }
   ],
   "source": [
    "print(dataset['MaritalStatus'].value_counts())"
   ]
  },
  {
   "cell_type": "code",
   "execution_count": 129,
   "metadata": {},
   "outputs": [
    {
     "data": {
      "text/plain": [
       "'corrheatmap.html'"
      ]
     },
     "execution_count": 129,
     "metadata": {},
     "output_type": "execute_result"
    }
   ],
   "source": [
    "# Plotting Correlation Heatmap\n",
    "corrs = dataset.corr()\n",
    "figure = ff.create_annotated_heatmap(\n",
    "    z=corrs.values,\n",
    "    x=list(corrs.columns),\n",
    "    y=list(corrs.index),\n",
    "    annotation_text=corrs.round(2).values,\n",
    "    showscale=True)\n",
    "offline.plot(figure,filename='corrheatmap.html')"
   ]
  },
  {
   "cell_type": "markdown",
   "metadata": {},
   "source": [
    "# Converting Categorical Values into Numeric"
   ]
  },
  {
   "cell_type": "code",
   "execution_count": 130,
   "metadata": {},
   "outputs": [],
   "source": [
    "# Converting Categorical features into Numerical features for binary Object Values(i.e OverTime,PastEmployee,MaritalStatus,Gender)\n",
    "def converter(column):\n",
    "    if column == 'Yes':\n",
    "        return 1\n",
    "    else:\n",
    "        return 0\n",
    "def convertAge(column):\n",
    "    if column <=39:\n",
    "        return 1\n",
    "    else:\n",
    "        return 0"
   ]
  },
  {
   "cell_type": "code",
   "execution_count": 131,
   "metadata": {
    "scrolled": false
   },
   "outputs": [
    {
     "name": "stdout",
     "output_type": "stream",
     "text": [
      "35    78\n",
      "34    77\n",
      "31    69\n",
      "36    69\n",
      "29    68\n",
      "32    61\n",
      "30    60\n",
      "33    58\n",
      "38    58\n",
      "40    57\n",
      "37    50\n",
      "27    48\n",
      "28    48\n",
      "42    46\n",
      "39    42\n",
      "45    41\n",
      "41    40\n",
      "26    39\n",
      "46    33\n",
      "44    33\n",
      "43    32\n",
      "50    30\n",
      "24    26\n",
      "25    26\n",
      "47    24\n",
      "49    24\n",
      "55    22\n",
      "48    19\n",
      "51    19\n",
      "53    19\n",
      "52    18\n",
      "54    18\n",
      "22    16\n",
      "56    14\n",
      "58    14\n",
      "23    14\n",
      "21    13\n",
      "20    11\n",
      "59    10\n",
      "19     9\n",
      "18     8\n",
      "60     5\n",
      "57     4\n",
      "Name: Age, dtype: int64\n",
      "1    948\n",
      "0    522\n",
      "Name: Age, dtype: int64\n"
     ]
    }
   ],
   "source": [
    "print(dataset['Age'].value_counts())\n",
    "dataset['Age']=dataset['Age'].apply(convertAge)\n",
    "print(dataset['Age'].value_counts())"
   ]
  },
  {
   "cell_type": "code",
   "execution_count": 132,
   "metadata": {},
   "outputs": [],
   "source": [
    "dataset['PastEmployee'] = dataset['PastEmployee'].apply(converter)\n",
    "dataset['OverTime'] = dataset['OverTime'].apply(converter)\n",
    "dataset['Gender']=dataset['Gender'].map({'Male':0,'Female':1})"
   ]
  },
  {
   "cell_type": "code",
   "execution_count": 133,
   "metadata": {},
   "outputs": [
    {
     "data": {
      "text/plain": [
       "'corrheatmap.html'"
      ]
     },
     "execution_count": 133,
     "metadata": {},
     "output_type": "execute_result"
    }
   ],
   "source": [
    "# Plotting Correlation Heatmap\n",
    "corrs = dataset.corr()\n",
    "figure = ff.create_annotated_heatmap(\n",
    "    z=corrs.values,\n",
    "    x=list(corrs.columns),\n",
    "    y=list(corrs.index),\n",
    "    annotation_text=corrs.round(2).values,\n",
    "    showscale=True)\n",
    "offline.plot(figure,filename='corrheatmap.html')"
   ]
  },
  {
   "cell_type": "code",
   "execution_count": 134,
   "metadata": {},
   "outputs": [],
   "source": [
    "categorical_features = ['BusinessTravel', 'Department', 'EducationField', 'Gender', 'JobRole', 'MaritalStatus']\n",
    "final_data = pd.get_dummies(dataset, columns = categorical_features)"
   ]
  },
  {
   "cell_type": "code",
   "execution_count": 135,
   "metadata": {},
   "outputs": [
    {
     "name": "stdout",
     "output_type": "stream",
     "text": [
      "<class 'pandas.core.frame.DataFrame'>\n",
      "RangeIndex: 1470 entries, 0 to 1469\n",
      "Data columns (total 47 columns):\n",
      " #   Column                             Non-Null Count  Dtype\n",
      "---  ------                             --------------  -----\n",
      " 0   Age                                1470 non-null   int64\n",
      " 1   PastEmployee                       1470 non-null   int64\n",
      " 2   DistanceFromHome                   1470 non-null   int64\n",
      " 3   Education                          1470 non-null   int64\n",
      " 4   EnvironmentSatisfaction            1470 non-null   int64\n",
      " 5   JobInvolvement                     1470 non-null   int64\n",
      " 6   JobLevel                           1470 non-null   int64\n",
      " 7   JobSatisfaction                    1470 non-null   int64\n",
      " 8   MonthlyIncome                      1470 non-null   int64\n",
      " 9   NumCompaniesWorked                 1470 non-null   int64\n",
      " 10  OverTime                           1470 non-null   int64\n",
      " 11  PercentSalaryHike                  1470 non-null   int64\n",
      " 12  PerformanceRating                  1470 non-null   int64\n",
      " 13  StockOptionLevel                   1470 non-null   int64\n",
      " 14  TotalWorkingYears                  1470 non-null   int64\n",
      " 15  TrainingTimesLastYear              1470 non-null   int64\n",
      " 16  WorkLifeBalance                    1470 non-null   int64\n",
      " 17  YearsAtCompany                     1470 non-null   int64\n",
      " 18  YearsInCurrentRole                 1470 non-null   int64\n",
      " 19  YearsSinceLastPromotion            1470 non-null   int64\n",
      " 20  YearsWithCurrManager               1470 non-null   int64\n",
      " 21  BusinessTravel_Non-Travel          1470 non-null   uint8\n",
      " 22  BusinessTravel_Travel_Frequently   1470 non-null   uint8\n",
      " 23  BusinessTravel_Travel_Rarely       1470 non-null   uint8\n",
      " 24  Department_Human Resources         1470 non-null   uint8\n",
      " 25  Department_Research & Development  1470 non-null   uint8\n",
      " 26  Department_Sales                   1470 non-null   uint8\n",
      " 27  EducationField_Human Resources     1470 non-null   uint8\n",
      " 28  EducationField_Life Sciences       1470 non-null   uint8\n",
      " 29  EducationField_Marketing           1470 non-null   uint8\n",
      " 30  EducationField_Medical             1470 non-null   uint8\n",
      " 31  EducationField_Other               1470 non-null   uint8\n",
      " 32  EducationField_Technical Degree    1470 non-null   uint8\n",
      " 33  Gender_0                           1470 non-null   uint8\n",
      " 34  Gender_1                           1470 non-null   uint8\n",
      " 35  JobRole_Healthcare Representative  1470 non-null   uint8\n",
      " 36  JobRole_Human Resources            1470 non-null   uint8\n",
      " 37  JobRole_Laboratory Technician      1470 non-null   uint8\n",
      " 38  JobRole_Manager                    1470 non-null   uint8\n",
      " 39  JobRole_Manufacturing Director     1470 non-null   uint8\n",
      " 40  JobRole_Research Director          1470 non-null   uint8\n",
      " 41  JobRole_Research Scientist         1470 non-null   uint8\n",
      " 42  JobRole_Sales Executive            1470 non-null   uint8\n",
      " 43  JobRole_Sales Representative       1470 non-null   uint8\n",
      " 44  MaritalStatus_Divorced             1470 non-null   uint8\n",
      " 45  MaritalStatus_Married              1470 non-null   uint8\n",
      " 46  MaritalStatus_Single               1470 non-null   uint8\n",
      "dtypes: int64(21), uint8(26)\n",
      "memory usage: 278.6 KB\n",
      "None\n"
     ]
    }
   ],
   "source": [
    "print(final_data.info())"
   ]
  },
  {
   "cell_type": "code",
   "execution_count": 137,
   "metadata": {},
   "outputs": [
    {
     "name": "stdout",
     "output_type": "stream",
     "text": [
      "<class 'pandas.core.frame.DataFrame'>\n",
      "<class 'pandas.core.series.Series'>\n",
      "(1470, 46)\n",
      "(1470,)\n"
     ]
    }
   ],
   "source": [
    "# Dividing dataset into label and feature sets\n",
    "X = final_data.drop('PastEmployee', axis = 1) # Features\n",
    "Y = final_data['PastEmployee'] # Labels\n",
    "print(type(X))\n",
    "print(type(Y))\n",
    "print(X.shape)\n",
    "print(Y.shape)"
   ]
  },
  {
   "cell_type": "code",
   "execution_count": 140,
   "metadata": {},
   "outputs": [],
   "source": [
    "# Normalizing numerical features so that each feature has mean 0 and variance 1\n",
    "feature_scaler = StandardScaler()\n",
    "X_scaled = feature_scaler.fit_transform(X)"
   ]
  },
  {
   "cell_type": "code",
   "execution_count": 141,
   "metadata": {},
   "outputs": [
    {
     "name": "stdout",
     "output_type": "stream",
     "text": [
      "(1029, 46)\n",
      "(441, 46)\n"
     ]
    }
   ],
   "source": [
    "# Dividing dataset into training and test sets\n",
    "X_train, X_test, Y_train, Y_test = train_test_split( X_scaled, Y, test_size = 0.3, random_state = 100)\n",
    "\n",
    "print(X_train.shape)\n",
    "print(X_test.shape)"
   ]
  },
  {
   "cell_type": "code",
   "execution_count": 145,
   "metadata": {
    "scrolled": true
   },
   "outputs": [
    {
     "name": "stdout",
     "output_type": "stream",
     "text": [
      "Number of observations in each class before oversampling (training data): \n",
      " 0    859\n",
      "1    170\n",
      "Name: PastEmployee, dtype: int64\n"
     ]
    },
    {
     "data": {
      "image/png": "[encoded data removed]",
      "text/plain": [
       "<Figure size 432x288 with 1 Axes>"
      ]
     },
     "metadata": {
      "needs_background": "light"
     },
     "output_type": "display_data"
    }
   ],
   "source": [
    "# Implementing Oversampling to balance the dataset; SMOTE stands for Synthetic Minority Oversampling TEchnique\n",
    "print(\"Number of observations in each class before oversampling (training data): \\n\", pd.Series(Y_train).value_counts())\n",
    "\n",
    "pd.value_counts(pd.Series(Y_train)).plot.bar()\n",
    "plt.title('Fraud class histogram')\n",
    "plt.xlabel('Fraud Class')\n",
    "plt.ylabel('Frequency')\n",
    "plt.show()"
   ]
  },
  {
   "cell_type": "code",
   "execution_count": 146,
   "metadata": {},
   "outputs": [],
   "source": [
    "smote = SMOTE(random_state = 101)\n",
    "X_train,Y_train = smote.fit_sample(X_train,Y_train)"
   ]
  },
  {
   "cell_type": "code",
   "execution_count": 147,
   "metadata": {},
   "outputs": [
    {
     "name": "stdout",
     "output_type": "stream",
     "text": [
      "Number of observations in each class after oversampling (training data): \n",
      " 1    859\n",
      "0    859\n",
      "Name: PastEmployee, dtype: int64\n"
     ]
    },
    {
     "data": {
      "image/png": "[encoded data removed]",
      "text/plain": [
       "<Figure size 432x288 with 1 Axes>"
      ]
     },
     "metadata": {
      "needs_background": "light"
     },
     "output_type": "display_data"
    }
   ],
   "source": [
    "print(\"Number of observations in each class after oversampling (training data): \\n\", pd.Series(Y_train).value_counts())\n",
    "pd.value_counts(pd.Series(Y_train)).plot.bar()\n",
    "plt.title('Fraud class histogram')\n",
    "plt.xlabel('Fraud Class')\n",
    "plt.ylabel('Frequency')\n",
    "plt.show()"
   ]
  },
  {
   "cell_type": "code",
   "execution_count": 151,
   "metadata": {},
   "outputs": [],
   "source": [
    "from xgboost import XGBClassifier "
   ]
  },
  {
   "cell_type": "code",
   "execution_count": 192,
   "metadata": {},
   "outputs": [],
   "source": [
    "model = XGBClassifier()"
   ]
  },
  {
   "cell_type": "code",
   "execution_count": 193,
   "metadata": {},
   "outputs": [
    {
     "data": {
      "text/plain": [
       "XGBClassifier()"
      ]
     },
     "execution_count": 193,
     "metadata": {},
     "output_type": "execute_result"
    }
   ],
   "source": [
    "model.fit(X_train, Y_train)"
   ]
  },
  {
   "cell_type": "code",
   "execution_count": 194,
   "metadata": {},
   "outputs": [],
   "source": [
    "# make predictions for test data\n",
    "y_pred = model.predict(X_test)\n",
    "predictions = [round(value) for value in y_pred]"
   ]
  },
  {
   "cell_type": "code",
   "execution_count": 195,
   "metadata": {},
   "outputs": [],
   "source": [
    "from sklearn.metrics import roc_auc_score,accuracy_score,mean_squared_error,recall_score,confusion_matrix,f1_score,roc_curve, auc,mean_absolute_error\n",
    "from sklearn.metrics import r2_score"
   ]
  },
  {
   "cell_type": "code",
   "execution_count": 196,
   "metadata": {},
   "outputs": [
    {
     "name": "stdout",
     "output_type": "stream",
     "text": [
      "Accuracy: 87.53%\n"
     ]
    }
   ],
   "source": [
    "accuracy = accuracy_score(Y_test, predictions)\n",
    "print(\"Accuracy: %.2f%%\" % (accuracy * 100.0))"
   ]
  },
  {
   "cell_type": "code",
   "execution_count": 197,
   "metadata": {},
   "outputs": [
    {
     "name": "stderr",
     "output_type": "stream",
     "text": [
      "C:\\Users\\Tirth\\anaconda3\\envs\\py36\\lib\\site-packages\\sklearn\\model_selection\\_search.py:849: FutureWarning:\n",
      "\n",
      "The parameter 'iid' is deprecated in 0.22 and will be removed in 0.24.\n",
      "\n"
     ]
    },
    {
     "name": "stdout",
     "output_type": "stream",
     "text": [
      "Predicting time: 13.353 s\n",
      "{'max_depth': 9, 'min_child_weight': 1}\n",
      "0.9826591503547041\n"
     ]
    }
   ],
   "source": [
    "param_test1 = {\n",
    " 'max_depth':range(3,10,2),\n",
    " 'min_child_weight':range(1,6,2)\n",
    "}\n",
    "gsearch1 = GridSearchCV(estimator = XGBClassifier( learning_rate =0.1, n_estimators=140, max_depth=5,\n",
    " min_child_weight=1, gamma=0, subsample=0.8, colsample_bytree=0.8,\n",
    " objective= 'binary:logistic', nthread=4, scale_pos_weight=1, seed=27), \n",
    " param_grid = param_test1, scoring='roc_auc',n_jobs=4,iid=False, cv=5)\n",
    "\n",
    "t1=time()\n",
    "gsearch1.fit(X_train,Y_train)\n",
    "print(\"Predicting time:\", round(time()-t1, 3), \"s\")\n",
    "best_parameters = gsearch1.best_params_\n",
    "print(best_parameters)\n",
    "\n",
    "best_result = gsearch1.best_score_ # Mean cross-validated score of the best_estimator\n",
    "print(best_result)"
   ]
  },
  {
   "cell_type": "code",
   "execution_count": 198,
   "metadata": {
    "scrolled": true
   },
   "outputs": [
    {
     "name": "stderr",
     "output_type": "stream",
     "text": [
      "C:\\Users\\Tirth\\anaconda3\\envs\\py36\\lib\\site-packages\\sklearn\\model_selection\\_search.py:849: FutureWarning:\n",
      "\n",
      "The parameter 'iid' is deprecated in 0.22 and will be removed in 0.24.\n",
      "\n"
     ]
    },
    {
     "name": "stdout",
     "output_type": "stream",
     "text": [
      "Predicting time: 7.265 s\n",
      "{'max_depth': 6, 'min_child_weight': 5}\n",
      "0.9789476846975921\n"
     ]
    }
   ],
   "source": [
    "param_test2 = {\n",
    " 'max_depth':[4,5,6],\n",
    " 'min_child_weight':[4,5,6]\n",
    "}\n",
    "gsearch2 = GridSearchCV(estimator = XGBClassifier( learning_rate=0.1, n_estimators=140, max_depth=5,\n",
    " min_child_weight=2, gamma=0, subsample=0.8, colsample_bytree=0.8,\n",
    " objective= 'binary:logistic', nthread=4, scale_pos_weight=1,seed=27), \n",
    " param_grid = param_test2, scoring='roc_auc',n_jobs=4,iid=False, cv=5)\n",
    "\n",
    "t1=time()\n",
    "gsearch2.fit(X_train,Y_train)\n",
    "print(\"Predicting time:\", round(time()-t1, 3), \"s\")\n",
    "best_parameters = gsearch2.best_params_\n",
    "print(best_parameters)\n",
    "\n",
    "best_result = gsearch2.best_score_ # Mean cross-validated score of the best_estimator\n",
    "print(best_result)"
   ]
  },
  {
   "cell_type": "code",
   "execution_count": 199,
   "metadata": {
    "scrolled": false
   },
   "outputs": [
    {
     "name": "stderr",
     "output_type": "stream",
     "text": [
      "C:\\Users\\Tirth\\anaconda3\\envs\\py36\\lib\\site-packages\\sklearn\\model_selection\\_search.py:849: FutureWarning:\n",
      "\n",
      "The parameter 'iid' is deprecated in 0.22 and will be removed in 0.24.\n",
      "\n"
     ]
    },
    {
     "name": "stdout",
     "output_type": "stream",
     "text": [
      "Predicting time: 98.483 s\n",
      "{'gamma': 0.0, 'max_depth': 11, 'min_child_weight': 1}\n",
      "0.9836934537081843\n"
     ]
    }
   ],
   "source": [
    "param_test2b = {\n",
    " 'min_child_weight':[1,2,3,4],\n",
    "    'max_depth':[9,11,13,15],\n",
    "    'gamma':[i/10.0 for i in range(0,5)]\n",
    "}\n",
    "gsearch2b = GridSearchCV(estimator = XGBClassifier( learning_rate=0.1, n_estimators=140, max_depth=4,\n",
    " min_child_weight=2, gamma=0, subsample=0.8, colsample_bytree=0.8,\n",
    " objective= 'binary:logistic', nthread=4, scale_pos_weight=1,seed=27), \n",
    " param_grid = param_test2b, scoring='roc_auc',n_jobs=4,iid=False, cv=5)\n",
    "t1=time()\n",
    "gsearch2b.fit(X_train,Y_train)\n",
    "print(\"Predicting time:\", round(time()-t1, 3), \"s\")\n",
    "best_parameters = gsearch2b.best_params_\n",
    "print(best_parameters)\n",
    "\n",
    "best_result = gsearch2b.best_score_ # Mean cross-validated score of the best_estimator\n",
    "print(best_result)"
   ]
  },
  {
   "cell_type": "code",
   "execution_count": 200,
   "metadata": {},
   "outputs": [
    {
     "name": "stdout",
     "output_type": "stream",
     "text": [
      "{'n_estimators': [75, 80, 85, 90]}\n",
      "Fitting 3 folds for each of 4 candidates, totalling 12 fits\n"
     ]
    },
    {
     "name": "stderr",
     "output_type": "stream",
     "text": [
      "C:\\Users\\Tirth\\anaconda3\\envs\\py36\\lib\\site-packages\\sklearn\\model_selection\\_search.py:282: UserWarning:\n",
      "\n",
      "The total space of parameters 4 is smaller than n_iter=50. Running 4 iterations. For exhaustive searches, use GridSearchCV.\n",
      "\n",
      "[Parallel(n_jobs=-1)]: Using backend LokyBackend with 8 concurrent workers.\n",
      "[Parallel(n_jobs=-1)]: Done   4 out of  12 | elapsed:    3.1s remaining:    6.2s\n",
      "[Parallel(n_jobs=-1)]: Done  12 out of  12 | elapsed:    3.6s finished\n"
     ]
    },
    {
     "name": "stdout",
     "output_type": "stream",
     "text": [
      "Predicting time: 4.178 s\n",
      "{'n_estimators': 80}\n",
      "AdaBoostClassifier(n_estimators=80)\n",
      "0.873150555087728\n"
     ]
    }
   ],
   "source": [
    "from sklearn.model_selection import RandomizedSearchCV\n",
    "from pprint import pprint\n",
    "from sklearn.ensemble import AdaBoostClassifier\n",
    "n_estimators = [75,80,85,90]\n",
    "random_grid = {'n_estimators': n_estimators            \n",
    "               }\n",
    "pprint(random_grid)\n",
    "model = AdaBoostClassifier()\n",
    "rf_random = RandomizedSearchCV(estimator=model, scoring='accuracy', param_distributions=random_grid, n_iter=50, cv=3,\n",
    "                               verbose=2, random_state=42, n_jobs=-1)\n",
    "t1=time()\n",
    "rf_random.fit(X_train, Y_train)\n",
    "print(\"Predicting time:\", round(time()-t1, 3), \"s\")\n",
    "print(rf_random.best_params_)\n",
    "print(rf_random.best_estimator_)\n",
    "print(rf_random.best_score_)"
   ]
  },
  {
   "cell_type": "code",
   "execution_count": 201,
   "metadata": {},
   "outputs": [],
   "source": [
    "import lightgbm as lgb\n",
    "from time import time"
   ]
  },
  {
   "cell_type": "code",
   "execution_count": 202,
   "metadata": {},
   "outputs": [
    {
     "name": "stdout",
     "output_type": "stream",
     "text": [
      "{'boosting': ['gbdt', 'rf', 'dart', 'goss'],\n",
      " 'learning_rate': [0.002, 0.003, 0.004, 0.005],\n",
      " 'max_bin': [300, 400, 500, 600],\n",
      " 'max_depth': [10, 14, 18, 22, 26, 30, 34, 38, 42, 46, 50, None],\n",
      " 'n_estimators': [30, 40, 50, 60, 70, 80],\n",
      " 'num_leaves': [5, 10, 15, 20, 25, 30]}\n",
      "Fitting 3 folds for each of 50 candidates, totalling 150 fits\n"
     ]
    },
    {
     "name": "stderr",
     "output_type": "stream",
     "text": [
      "[Parallel(n_jobs=-1)]: Using backend LokyBackend with 8 concurrent workers.\n",
      "[Parallel(n_jobs=-1)]: Done  34 tasks      | elapsed:    1.0s\n",
      "[Parallel(n_jobs=-1)]: Done 135 out of 150 | elapsed:    3.8s remaining:    0.3s\n",
      "[Parallel(n_jobs=-1)]: Done 150 out of 150 | elapsed:    4.2s finished\n"
     ]
    },
    {
     "name": "stdout",
     "output_type": "stream",
     "text": [
      "Predicting time: 4.501 s\n",
      "{'num_leaves': 30, 'n_estimators': 70, 'max_depth': 46, 'max_bin': 400, 'learning_rate': 0.004, 'boosting': 'gbdt'}\n",
      "LGBMClassifier(boosting='gbdt', learning_rate=0.004, max_bin=400, max_depth=46,\n",
      "               n_estimators=70, num_leaves=30)\n",
      "0.8457836520663745\n"
     ]
    }
   ],
   "source": [
    "max_depth = [int(x) for x in np.linspace(10, 50, num=11)]\n",
    "max_depth.append(None)\n",
    "num_leaves=[5,10,15,20,25,30]\n",
    "boosting = ['gbdt','rf','dart','goss']\n",
    "max_bin =[300,400,500,600]\n",
    "n_estimators = [30, 40, 50, 60, 70, 80]\n",
    "learning_rate = [0.002,0.003,0.004,0.005]\n",
    "random_grid = {'max_bin' : max_bin,\n",
    "               'learning_rate' : learning_rate,\n",
    "               'n_estimators'  : n_estimators,\n",
    "               'num_leaves'    : num_leaves,\n",
    "               'max_depth'     : max_depth,\n",
    "               'boosting'      : boosting\n",
    "               }\n",
    "pprint(random_grid)\n",
    "model = lgb.LGBMClassifier()\n",
    "lgb_random = RandomizedSearchCV(estimator=model, param_distributions=random_grid, n_iter=50, cv=3,\n",
    "                               verbose=2, n_jobs=-1)\n",
    "t1=time()\n",
    "lgb_random.fit(X_train, Y_train)\n",
    "print(\"Predicting time:\", round(time()-t1, 3), \"s\")\n",
    "print(lgb_random.best_params_)\n",
    "print(lgb_random.best_estimator_)\n",
    "print(lgb_random.best_score_)"
   ]
  },
  {
   "cell_type": "code",
   "execution_count": null,
   "metadata": {},
   "outputs": [],
   "source": []
  }
 ],
 "metadata": {
  "kernelspec": {
   "display_name": "Python 3",
   "language": "python",
   "name": "python3"
  },
  "language_info": {
   "codemirror_mode": {
    "name": "ipython",
    "version": 3
   },
   "file_extension": ".py",
   "mimetype": "text/x-python",
   "name": "python",
   "nbconvert_exporter": "python",
   "pygments_lexer": "ipython3",
   "version": "3.6.10"
  }
 },
 "nbformat": 4,
 "nbformat_minor": 4
}
